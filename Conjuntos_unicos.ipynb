{
  "nbformat": 4,
  "nbformat_minor": 0,
  "metadata": {
    "colab": {
      "name": "Untitled2.ipynb",
      "provenance": [],
      "authorship_tag": "ABX9TyPcriy5fuKq6K/hpyepsRBr"
    },
    "kernelspec": {
      "name": "python3",
      "display_name": "Python 3"
    }
  },
  "cells": [
    {
      "cell_type": "code",
      "metadata": {
        "id": "Q3ZKeiAOu3RK"
      },
      "source": [
        "import pandas as pd\r\n",
        "\r\n",
        "conjunto = []\r\n",
        "continuar = 'S'\r\n",
        "\r\n",
        "while continuar == 'S':\r\n",
        "  \r\n",
        "  try:\r\n",
        "    entrada = int(input('Digite um numero inteiro '))\r\n",
        "    conjunto.append(entrada)\r\n",
        "  except:\r\n",
        "    print('*'*30)\r\n",
        "    print(\"Digite um valor inteiro\".upper())\r\n",
        "    print('*'*30)\r\n",
        "\r\n",
        "  if entrada in conjunto:\r\n",
        "    duplicado = entrada\r\n",
        "  \r\n",
        "  continuar = str(input('Deseja continuar? ').upper())\r\n",
        "\r\n",
        "conjunto_saida = pd.unique(conjunto).tolist()\r\n",
        "print('*'*30)\r\n",
        "print(f'Conjunto sem duplicadas {conjunto_saida}')\r\n",
        "print(f'Valor Duplicado [{duplicado}]')"
      ],
      "execution_count": null,
      "outputs": []
    }
  ]
}