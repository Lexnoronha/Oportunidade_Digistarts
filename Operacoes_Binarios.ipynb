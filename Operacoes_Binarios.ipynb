{
  "nbformat": 4,
  "nbformat_minor": 0,
  "metadata": {
    "colab": {
      "name": "Untitled2.ipynb",
      "provenance": [],
      "authorship_tag": "ABX9TyMgKo2yPHjoyhkuCtqtozJR"
    },
    "kernelspec": {
      "name": "python3",
      "display_name": "Python 3"
    }
  },
  "cells": [
    {
      "cell_type": "code",
      "metadata": {
        "id": "Q3ZKeiAOu3RK"
      },
      "source": [
        "valor = str(input('digite o primeiro valor binario: '))\r\n",
        "valor2 = str(input('digite o segundo valor binario: '))\r\n",
        "\r\n",
        "menu = str((' 1 - somar \\n 2 - subtrair , \\n 3 - dividir, \\n 4 - multiplicar, \\n 5 - percentuar \\n 6 - sair do programa'))\r\n",
        "opcao_menu = 0\r\n",
        "\r\n",
        "print(menu)\r\n",
        "opcao_menu = int(input('qual operacao vc gostaria de realizar: '))\r\n",
        "\r\n",
        "if opcao_menu == 1:\r\n",
        "  soma = bin(int(valor,2) + int(valor2,2))\r\n",
        "  print('o resultado da soma é {}'.format(soma))\r\n",
        "  print('---------------------------------------')\r\n",
        "elif opcao_menu == 2:\r\n",
        "  sub = bin(int(valor,2) - int(valor2,2))\r\n",
        "  print('o resultado da subtração é {}'.format(sub))\r\n",
        "  print('---------------------------------------')\r\n",
        "elif opcao_menu == 3:\r\n",
        "  div = bin(int(valor,2) / int(valor2,2))\r\n",
        "  print('o resultado da divisão é {}'.format(div))\r\n",
        "  print('---------------------------------------')\r\n",
        "elif opcao_menu == 4:\r\n",
        "  mult = bin(int(valor,2) * int(valor2,2))\r\n",
        "  print('o resultado da multiplição é {}'.format(mult))\r\n",
        "  print('---------------------------------------')\r\n",
        "elif opcao_menu == 5:\r\n",
        "  perc = res = bin(int(valor,2) % int(valor2,2))\r\n",
        "  print('o resultado do percentual é {}'.format(perc))\r\n",
        "  print('---------------------------------------')\r\n"
      ],
      "execution_count": null,
      "outputs": []
    }
  ]
}